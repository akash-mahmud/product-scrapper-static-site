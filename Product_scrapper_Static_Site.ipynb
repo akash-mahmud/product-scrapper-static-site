{
  "nbformat": 4,
  "nbformat_minor": 0,
  "metadata": {
    "colab": {
      "provenance": [],
      "authorship_tag": "ABX9TyPEBfrMqbUv30+sGSrad5KH"
    },
    "kernelspec": {
      "name": "python3",
      "display_name": "Python 3"
    },
    "language_info": {
      "name": "python"
    }
  },
  "cells": [
    {
      "cell_type": "markdown",
      "source": [
        "## Static site scrapper"
      ],
      "metadata": {
        "id": "JfhdXX86qs5j"
      }
    },
    {
      "cell_type": "code",
      "source": [],
      "metadata": {
        "id": "QwrhvSrFe-J_"
      },
      "execution_count": null,
      "outputs": []
    },
    {
      "cell_type": "code",
      "execution_count": null,
      "metadata": {
        "id": "FTkmwlBaqm1z"
      },
      "outputs": [],
      "source": [
        "from bs4 import BeautifulSoup\n",
        "import requests\n",
        "all_product_data = []\n"
      ]
    },
    {
      "cell_type": "code",
      "source": [
        "# we are going to scrape single url first and then paginate\n",
        "\n",
        "from fake_useragent import UserAgent\n",
        "ua=UserAgent()\n",
        "hdr = {'User-Agent': ua.random,\n",
        "      'Accept': 'text/html,application/xhtml+xml,application/xml;q=0.9,*/*;q=0.8',\n",
        "      'Accept-Charset': 'ISO-8859-1,utf-8;q=0.7,*;q=0.3',\n",
        "      'Accept-Encoding': 'none',\n",
        "      'Accept-Language': 'en-US,en;q=0.8',\n",
        "      'Connection': 'keep-alive'}\n",
        "url = 'https://webscraper.io/test-sites/e-commerce/static/computers'\n",
        "\n",
        "webpage = requests.get(url,headers=hdr)\n",
        "\n",
        "\n",
        "all_product_data = []\n"
      ],
      "metadata": {
        "id": "Plg17nZArvRo"
      },
      "execution_count": null,
      "outputs": []
    },
    {
      "cell_type": "code",
      "source": [
        "!pip install fake_useragent"
      ],
      "metadata": {
        "colab": {
          "base_uri": "https://localhost:8080/"
        },
        "id": "SiFm-O38w2lP",
        "outputId": "f351f8bb-a108-49c5-dcce-ffe05c987db7"
      },
      "execution_count": null,
      "outputs": [
        {
          "output_type": "stream",
          "name": "stdout",
          "text": [
            "Requirement already satisfied: fake_useragent in /usr/local/lib/python3.10/dist-packages (1.1.3)\n"
          ]
        }
      ]
    },
    {
      "cell_type": "code",
      "source": [
        "soup = BeautifulSoup(webpage.content,\"html.parser\")\n",
        "navmenu =soup.findAll(class_=\"subcategory-link\")\n",
        "domain = 'https://webscraper.io'\n",
        "for a in navmenu:\n",
        "    print(a['href'])\n",
        "    productPage = requests.get(F\"{domain}{a['href']}\",headers=hdr)\n",
        "    productsoup = BeautifulSoup(productPage.content,\"html.parser\")\n",
        "\n",
        "    products = productsoup.findAll(class_=\"thumbnail\")\n",
        "    for singleProduct in products:\n",
        "\n",
        "        name = singleProduct.find(class_=\"title\")\n",
        "        description = singleProduct.find(class_=\"description\")\n",
        "        img = singleProduct.find(class_=\"img-responsive\")\n",
        "        price = singleProduct.find(class_=\"price\")\n",
        "        reveiws = singleProduct.find(class_=\"ratings\")\n",
        "        rating = singleProduct.find('p', {'data-rating': True})\n",
        "        myproductSingleData= {\n",
        "            'name':name.text,\n",
        "            'description': description.text,\n",
        "            'img':img['src'],\n",
        "            'price':price.text,\n",
        "            'reveiws':reveiws.text,\n",
        "            'rating':rating.get('data-rating')\n",
        "\n",
        "        }\n",
        "        all_product_data.append(myproductSingleData)\n",
        "        # print(all_product_data)\n",
        "    pagination_class = productsoup.find(class_='pagination')\n",
        "    li_with_a_tags = pagination_class.findAll('li', recursive=False)\n",
        "\n",
        "    for li_tag in li_with_a_tags:\n",
        "        a_tag = li_tag.find('a')\n",
        "        if a_tag:\n",
        "            productPagePagination = requests.get(F\"{domain}{a_tag['href']}\",headers=hdr)\n",
        "            productPaginatedPagesoup = BeautifulSoup(productPagePagination.content,\"html.parser\")\n",
        "            pginatedProduct = productPaginatedPagesoup.findAll(class_=\"thumbnail\")\n",
        "            # print(pginatedProduct)\n",
        "            for singleProduct in pginatedProduct:\n",
        "\n",
        "                name = singleProduct.find(class_=\"title\")\n",
        "                description = singleProduct.find(class_=\"description\")\n",
        "                img = singleProduct.find(class_=\"img-responsive\")\n",
        "                price = singleProduct.find(class_=\"price\")\n",
        "                reveiws = singleProduct.find(class_=\"ratings\")\n",
        "                rating = singleProduct.find('p', {'data-rating': True})\n",
        "                myproductSingleData= {\n",
        "                    'name':name.text,\n",
        "                    'description': description.text,\n",
        "                    'img':img['src'],\n",
        "                    'price':price.text,\n",
        "                    'reveiws':reveiws.text,\n",
        "                    'rating':rating.get('data-rating')\n",
        "\n",
        "                }\n",
        "                all_product_data.append(myproductSingleData)\n",
        "                # print(all_product_data)\n",
        "\n",
        "\n",
        "\n",
        "\n",
        "\n",
        "\n"
      ],
      "metadata": {
        "colab": {
          "base_uri": "https://localhost:8080/"
        },
        "id": "wo2eCsZmtBVX",
        "outputId": "df307667-b8a2-4aa0-aaef-d8540b696aa7"
      },
      "execution_count": null,
      "outputs": [
        {
          "output_type": "stream",
          "name": "stdout",
          "text": [
            "/test-sites/e-commerce/static/computers/tablets\n",
            "/test-sites/e-commerce/static/computers/laptops\n"
          ]
        }
      ]
    },
    {
      "cell_type": "code",
      "source": [
        "len(all_product_data)\n"
      ],
      "metadata": {
        "colab": {
          "base_uri": "https://localhost:8080/"
        },
        "id": "0ZvBAyDFaycg",
        "outputId": "d63c1250-3d69-4f36-d3c4-548e8eb76ed4"
      },
      "execution_count": null,
      "outputs": [
        {
          "output_type": "execute_result",
          "data": {
            "text/plain": [
              "102"
            ]
          },
          "metadata": {},
          "execution_count": 60
        }
      ]
    },
    {
      "cell_type": "code",
      "source": [
        "import csv\n",
        "csv_file = 'product_data.csv'\n",
        "\n",
        "# Define the fieldnames (column headers) for the CSV\n",
        "fieldnames = ['name', 'description', 'img' , 'price' , 'reveiws' , 'rating']\n",
        "with open(csv_file, 'w', newline='') as file:\n",
        "    writer = csv.DictWriter(file, fieldnames=fieldnames)\n",
        "\n",
        "    # Write the header row\n",
        "    writer.writeheader()\n",
        "\n",
        "    # # Write each product as a row in the CSV\n",
        "    for product in all_product_data:\n",
        "        writer.writerow(product)\n"
      ],
      "metadata": {
        "id": "LZANrnGQa_xP"
      },
      "execution_count": null,
      "outputs": []
    },
    {
      "cell_type": "code",
      "source": [
        "!git add .\n",
        "!git commit -m 'init'"
      ],
      "metadata": {
        "colab": {
          "base_uri": "https://localhost:8080/"
        },
        "id": "TRXDmz61e_Uj",
        "outputId": "e67ab131-b4f9-43aa-fd2d-d1a64fe9237a"
      },
      "execution_count": null,
      "outputs": [
        {
          "output_type": "stream",
          "name": "stdout",
          "text": [
            "\n",
            "*** Please tell me who you are.\n",
            "\n",
            "Run\n",
            "\n",
            "  git config --global user.email \"you@example.com\"\n",
            "  git config --global user.name \"Your Name\"\n",
            "\n",
            "to set your account's default identity.\n",
            "Omit --global to set the identity only in this repository.\n",
            "\n",
            "fatal: unable to auto-detect email address (got 'root@3cc260f765aa.(none)')\n"
          ]
        }
      ]
    }
  ]
}